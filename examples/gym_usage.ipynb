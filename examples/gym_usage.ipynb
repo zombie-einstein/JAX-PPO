{
 "cells": [
  {
   "cell_type": "code",
   "execution_count": null,
   "id": "0f4129ce",
   "metadata": {},
   "outputs": [],
   "source": [
    "import jax\n",
    "import jax.numpy as jnp\n",
    "import gymnasium as gym\n",
    "import optax\n",
    "import numpy as np\n",
    "import flax\n",
    "import matplotlib.pyplot as plt"
   ]
  },
  {
   "cell_type": "code",
   "execution_count": null,
   "id": "7a5cd477",
   "metadata": {},
   "outputs": [],
   "source": [
    "import jax_ppo\n",
    "from gym_runner import train, test"
   ]
  },
  {
   "cell_type": "code",
   "execution_count": null,
   "id": "25889fae",
   "metadata": {},
   "outputs": [],
   "source": [
    "k = jax.random.PRNGKey(101)"
   ]
  },
  {
   "cell_type": "markdown",
   "id": "e03bdac6",
   "metadata": {},
   "source": [
    "## Initialise Environment"
   ]
  },
  {
   "cell_type": "code",
   "execution_count": null,
   "id": "8bc6a494",
   "metadata": {},
   "outputs": [],
   "source": [
    "env = gym.make('Pendulum-v1', g=9.81)"
   ]
  },
  {
   "cell_type": "markdown",
   "id": "98c9ebcd",
   "metadata": {},
   "source": [
    "## Hyper Parameters"
   ]
  },
  {
   "cell_type": "code",
   "execution_count": null,
   "id": "85fb9634",
   "metadata": {},
   "outputs": [],
   "source": [
    "# Number of policy updates\n",
    "N_TRAIN = 300\n",
    "# Number of training samples per poliy update\n",
    "N_SAMPLES = 512\n",
    "# Number of training loops per poliy update\n",
    "N_EPOCHS = 4\n",
    "# Mini-batch sized used for actual training\n",
    "MINI_BATCH_SIZE = 32"
   ]
  },
  {
   "cell_type": "markdown",
   "id": "da0ca808",
   "metadata": {},
   "source": [
    "The total number of policy updates is the total number of trajectory samples divided by the size of mini batches"
   ]
  },
  {
   "cell_type": "code",
   "execution_count": null,
   "id": "2d43b261",
   "metadata": {},
   "outputs": [],
   "source": [
    "N_STEPS = N_TRAIN * N_SAMPLES * N_EPOCHS // MINI_BATCH_SIZE"
   ]
  },
  {
   "cell_type": "markdown",
   "id": "a8e4e471",
   "metadata": {},
   "source": [
    "## Initialise Policy"
   ]
  },
  {
   "cell_type": "markdown",
   "id": "9e3e65f8",
   "metadata": {},
   "source": [
    "Initialise a linear step-size schedule for the number of steps calculated above"
   ]
  },
  {
   "cell_type": "code",
   "execution_count": null,
   "id": "82752836",
   "metadata": {},
   "outputs": [],
   "source": [
    "train_schedule = optax.linear_schedule(3e-2, 3e-4, N_STEPS)"
   ]
  },
  {
   "cell_type": "code",
   "execution_count": null,
   "id": "a9173d9b",
   "metadata": {},
   "outputs": [],
   "source": [
    "k, agent = jax_ppo.init_agent(\n",
    "    k, \n",
    "    jax_ppo.default_params,\n",
    "    env.action_space.shape,\n",
    "    env.observation_space.shape,\n",
    "    train_schedule,\n",
    "    layer_width=16,\n",
    "    activation=flax.linen.tanh,\n",
    ")"
   ]
  },
  {
   "cell_type": "markdown",
   "id": "ed72a8e4",
   "metadata": {},
   "source": [
    "## Train Loop"
   ]
  },
  {
   "cell_type": "code",
   "execution_count": null,
   "id": "39e5b9b1",
   "metadata": {
    "scrolled": true
   },
   "outputs": [],
   "source": [
    "k, agent, losses = train(\n",
    "    k, env, agent, N_TRAIN, N_SAMPLES, N_EPOCHS, MINI_BATCH_SIZE,\n",
    ")"
   ]
  },
  {
   "cell_type": "code",
   "execution_count": null,
   "id": "526cc02a",
   "metadata": {},
   "outputs": [],
   "source": [
    "env.close()"
   ]
  },
  {
   "cell_type": "markdown",
   "id": "4de81077",
   "metadata": {},
   "source": [
    "## Training Data"
   ]
  },
  {
   "cell_type": "code",
   "execution_count": null,
   "id": "279f206f",
   "metadata": {},
   "outputs": [],
   "source": [
    "f, ax = plt.subplots(2, 2, figsize=(10, 6))\n",
    "\n",
    "ax[0][0].plot(losses[\"policy_loss\"].reshape(N_TRAIN, -1).sum(axis=1), drawstyle=\"steps-mid\")\n",
    "ax[0][0].set_ylabel(\"Total Policy Loss\")\n",
    "ax[0][0].set_xlabel(\"Train Step\")\n",
    "\n",
    "ax[0][1].plot(losses[\"value_loss\"].reshape(N_TRAIN, -1).sum(axis=1), drawstyle=\"steps-mid\")\n",
    "ax[0][1].set_ylabel(\"Total Value Loss\")\n",
    "ax[0][1].set_xlabel(\"Train Step\")\n",
    "\n",
    "ax[1][0].plot(losses[\"entropy\"].reshape(N_TRAIN, -1).sum(axis=1), drawstyle=\"steps-mid\")\n",
    "ax[1][0].set_ylabel(\"Total Entropy\")\n",
    "ax[1][0].set_xlabel(\"Train Step\")\n",
    "\n",
    "ax[1][1].plot(losses[\"learning_rate\"], drawstyle=\"steps-mid\")\n",
    "ax[1][1].set_ylabel(\"Learning Rate\")\n",
    "ax[1][1].set_xlabel(\"Policy Update\");"
   ]
  },
  {
   "cell_type": "markdown",
   "id": "dbdb521a",
   "metadata": {},
   "source": [
    "## Test Optimal Policy"
   ]
  },
  {
   "cell_type": "code",
   "execution_count": null,
   "id": "6c728623",
   "metadata": {},
   "outputs": [],
   "source": [
    "env = gym.make('Pendulum-v1', g=9.81, render_mode=\"human\"\n",
    ")\n",
    "test_rewards = test(env, agent, 1000)\n",
    "env.close()"
   ]
  },
  {
   "cell_type": "code",
   "execution_count": null,
   "id": "f4031b32",
   "metadata": {},
   "outputs": [],
   "source": [
    "f, ax = plt.subplots(figsize=(7, 3))\n",
    "ax.plot(test_rewards, drawstyle=\"steps-mid\");\n",
    "ax.set_ylabel(\"Reward\")\n",
    "ax.set_xlabel(\"Step\");"
   ]
  },
  {
   "cell_type": "code",
   "execution_count": null,
   "id": "d60ffd37",
   "metadata": {},
   "outputs": [],
   "source": []
  }
 ],
 "metadata": {
  "kernelspec": {
   "display_name": "Python 3 (ipykernel)",
   "language": "python",
   "name": "python3"
  },
  "language_info": {
   "codemirror_mode": {
    "name": "ipython",
    "version": 3
   },
   "file_extension": ".py",
   "mimetype": "text/x-python",
   "name": "python",
   "nbconvert_exporter": "python",
   "pygments_lexer": "ipython3",
   "version": "3.10.6"
  }
 },
 "nbformat": 4,
 "nbformat_minor": 5
}
