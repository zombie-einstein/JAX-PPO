{
 "cells": [
  {
   "cell_type": "code",
   "execution_count": null,
   "id": "0f4129ce",
   "metadata": {},
   "outputs": [],
   "source": [
    "import jax\n",
    "import jax.numpy as jnp\n",
    "import gymnax as gym\n",
    "import optax\n",
    "import matplotlib.pyplot as plt"
   ]
  },
  {
   "cell_type": "code",
   "execution_count": null,
   "id": "7a5cd477",
   "metadata": {},
   "outputs": [],
   "source": [
    "import jax_ppo\n",
    "from gym_runner import train"
   ]
  },
  {
   "cell_type": "code",
   "execution_count": null,
   "id": "25889fae",
   "metadata": {},
   "outputs": [],
   "source": [
    "k = jax.random.PRNGKey(101)"
   ]
  },
  {
   "cell_type": "markdown",
   "id": "e03bdac6",
   "metadata": {},
   "source": [
    "## Initialise Environment"
   ]
  },
  {
   "cell_type": "code",
   "execution_count": null,
   "id": "8bc6a494",
   "metadata": {},
   "outputs": [],
   "source": [
    "# env, env_params = gym.make(\"MountainCarContinuous-v0\")\n",
    "env, env_params = gym.make(\"Pendulum-v1\")"
   ]
  },
  {
   "cell_type": "markdown",
   "id": "98c9ebcd",
   "metadata": {},
   "source": [
    "## Hyper Parameters"
   ]
  },
  {
   "cell_type": "code",
   "execution_count": null,
   "id": "85fb9634",
   "metadata": {},
   "outputs": [],
   "source": [
    "# Number of policy updates\n",
    "N_TRAIN = 2_500\n",
    "# Number of training samples per poliy update\n",
    "N_SAMPLES = 2048\n",
    "# Number of training loops per poliy update\n",
    "N_EPOCHS = 2\n",
    "# Mini-batch sized used for actual training\n",
    "MINI_BATCH_SIZE = 256\n",
    "# Number of test steps\n",
    "N_TEST = 2_000"
   ]
  },
  {
   "cell_type": "markdown",
   "id": "da0ca808",
   "metadata": {},
   "source": [
    "The total number of policy updates is the total number of trajectory samples divided by the size of mini batches"
   ]
  },
  {
   "cell_type": "code",
   "execution_count": null,
   "id": "2d43b261",
   "metadata": {},
   "outputs": [],
   "source": [
    "N_STEPS = N_TRAIN * N_SAMPLES * N_EPOCHS // MINI_BATCH_SIZE"
   ]
  },
  {
   "cell_type": "code",
   "execution_count": null,
   "id": "7a85b91a",
   "metadata": {},
   "outputs": [],
   "source": [
    "params = jax_ppo.default_params._replace(\n",
    "    gamma=0.95, gae_lambda=0.9, entropy_coeff=0.0001, adam_eps=1e-8, clip_coeff=0.2\n",
    ")"
   ]
  },
  {
   "cell_type": "markdown",
   "id": "a8e4e471",
   "metadata": {},
   "source": [
    "## Initialise Policy"
   ]
  },
  {
   "cell_type": "markdown",
   "id": "9e3e65f8",
   "metadata": {},
   "source": [
    "Initialise a linear step-size schedule for the number of steps calculated above"
   ]
  },
  {
   "cell_type": "code",
   "execution_count": null,
   "id": "82752836",
   "metadata": {},
   "outputs": [],
   "source": [
    "train_schedule = optax.linear_schedule(2e-3, 2e-5, N_STEPS)"
   ]
  },
  {
   "cell_type": "code",
   "execution_count": null,
   "id": "a9173d9b",
   "metadata": {},
   "outputs": [],
   "source": [
    "k, agent = jax_ppo.init_agent(\n",
    "    k, \n",
    "    params,\n",
    "    env.action_space().shape,\n",
    "    env.observation_space(env_params).shape,\n",
    "    train_schedule,\n",
    "    layer_width=16,\n",
    ")"
   ]
  },
  {
   "cell_type": "markdown",
   "id": "ed72a8e4",
   "metadata": {},
   "source": [
    "## Train Loop"
   ]
  },
  {
   "cell_type": "code",
   "execution_count": null,
   "id": "39e5b9b1",
   "metadata": {
    "scrolled": true
   },
   "outputs": [],
   "source": [
    "_k, trained_agent, losses, ts, rewards = train(\n",
    "    k, env, env_params, agent,\n",
    "    N_TRAIN, \n",
    "    N_SAMPLES, \n",
    "    N_EPOCHS, \n",
    "    MINI_BATCH_SIZE, \n",
    "    N_TEST, \n",
    "    params, \n",
    "    greedy_test_policy=True\n",
    ")"
   ]
  },
  {
   "cell_type": "code",
   "execution_count": null,
   "id": "5e6ece06",
   "metadata": {},
   "outputs": [],
   "source": [
    "plt.plot(jnp.sum(rewards, axis=1), drawstyle=\"steps-mid\");\n",
    "plt.xlabel(\"Training Step\")\n",
    "plt.ylabel(\"Total Rewards\");"
   ]
  },
  {
   "cell_type": "markdown",
   "id": "4de81077",
   "metadata": {},
   "source": [
    "## Training Data"
   ]
  },
  {
   "cell_type": "code",
   "execution_count": null,
   "id": "279f206f",
   "metadata": {},
   "outputs": [],
   "source": [
    "f, ax = plt.subplots(2, 2, figsize=(10, 6))\n",
    "\n",
    "ax[0][0].plot(losses[\"policy_loss\"].reshape(-1), drawstyle=\"steps-mid\")\n",
    "ax[0][0].set_ylabel(\"Total Policy Loss\")\n",
    "ax[0][0].set_xlabel(\"Policy Update\")\n",
    "\n",
    "ax[0][1].plot(losses[\"value_loss\"].reshape(-1), drawstyle=\"steps-mid\")\n",
    "ax[0][1].set_ylabel(\"Total Value Loss\")\n",
    "ax[0][1].set_xlabel(\"Policy Update\")\n",
    "\n",
    "ax[1][0].plot(losses[\"entropy_loss\"].reshape(-1), drawstyle=\"steps-mid\")\n",
    "ax[1][0].set_ylabel(\"Total Entropy\")\n",
    "ax[1][0].set_xlabel(\"Policy Update\")\n",
    "\n",
    "ax[1][1].plot(losses[\"kl_divergence\"].reshape(-1), drawstyle=\"steps-mid\")\n",
    "ax[1][1].set_ylabel(\"KL-Divergence\")\n",
    "ax[1][1].set_xlabel(\"Policy Update\");"
   ]
  },
  {
   "cell_type": "code",
   "execution_count": null,
   "id": "0a40ce29",
   "metadata": {},
   "outputs": [],
   "source": [
    "plt.plot(rewards[-1], drawstyle=\"steps-mid\");\n",
    "plt.xlabel(\"Step\");\n",
    "plt.ylabel(\"Reward\");"
   ]
  },
  {
   "cell_type": "code",
   "execution_count": null,
   "id": "39179903",
   "metadata": {},
   "outputs": [],
   "source": []
  }
 ],
 "metadata": {
  "kernelspec": {
   "display_name": "Python 3 (ipykernel)",
   "language": "python",
   "name": "python3"
  },
  "language_info": {
   "codemirror_mode": {
    "name": "ipython",
    "version": 3
   },
   "file_extension": ".py",
   "mimetype": "text/x-python",
   "name": "python",
   "nbconvert_exporter": "python",
   "pygments_lexer": "ipython3",
   "version": "3.10.6"
  }
 },
 "nbformat": 4,
 "nbformat_minor": 5
}
