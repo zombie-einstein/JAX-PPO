{
 "cells": [
  {
   "cell_type": "code",
   "execution_count": null,
   "id": "fa0bbce6",
   "metadata": {},
   "outputs": [],
   "source": [
    "import jax\n",
    "import jax.numpy as jnp\n",
    "import optax\n",
    "import numpy as np\n",
    "import flax\n",
    "import matplotlib.pyplot as plt\n",
    "import gymnax as gym"
   ]
  },
  {
   "cell_type": "code",
   "execution_count": null,
   "id": "4e3fc0fe",
   "metadata": {},
   "outputs": [],
   "source": [
    "import jax_ppo"
   ]
  },
  {
   "cell_type": "code",
   "execution_count": null,
   "id": "3fc33e4c",
   "metadata": {},
   "outputs": [],
   "source": [
    "from gym_w_lstm_runner import train"
   ]
  },
  {
   "cell_type": "code",
   "execution_count": null,
   "id": "f369d26b",
   "metadata": {},
   "outputs": [],
   "source": [
    "k = jax.random.PRNGKey(101)"
   ]
  },
  {
   "cell_type": "code",
   "execution_count": null,
   "id": "152192eb",
   "metadata": {},
   "outputs": [],
   "source": [
    "env, env_params = gym.make(\"Pendulum-v1\")"
   ]
  },
  {
   "cell_type": "code",
   "execution_count": null,
   "id": "b66b0cf8",
   "metadata": {},
   "outputs": [],
   "source": [
    "train_schedule = optax.linear_schedule(3e-2, 3e-4, 1000)"
   ]
  },
  {
   "cell_type": "code",
   "execution_count": null,
   "id": "ae0a33e6",
   "metadata": {},
   "outputs": [],
   "source": [
    "seq_len = 4"
   ]
  },
  {
   "cell_type": "code",
   "execution_count": null,
   "id": "4aabcb75",
   "metadata": {},
   "outputs": [],
   "source": [
    "_, agent, hidden_states = jax_ppo.init_lstm_agent(\n",
    "    k, \n",
    "    jax_ppo.default_params,\n",
    "    env.action_space().shape,\n",
    "    env.observation_space(env_params).shape,\n",
    "    train_schedule,\n",
    "    n_batch=1, \n",
    "    seq_len=seq_len,\n",
    ")"
   ]
  },
  {
   "cell_type": "code",
   "execution_count": null,
   "id": "961e915c",
   "metadata": {
    "scrolled": false
   },
   "outputs": [],
   "source": [
    "_k, trained_agent, losses, ts, rewards = train(\n",
    "    k, env, env_params, agent, 10, 128, 2, 32, 50, seq_len, jax_ppo.default_params\n",
    ")"
   ]
  },
  {
   "cell_type": "code",
   "execution_count": null,
   "id": "43764b75",
   "metadata": {},
   "outputs": [],
   "source": []
  }
 ],
 "metadata": {
  "kernelspec": {
   "display_name": "Python 3 (ipykernel)",
   "language": "python",
   "name": "python3"
  },
  "language_info": {
   "codemirror_mode": {
    "name": "ipython",
    "version": 3
   },
   "file_extension": ".py",
   "mimetype": "text/x-python",
   "name": "python",
   "nbconvert_exporter": "python",
   "pygments_lexer": "ipython3",
   "version": "3.10.6"
  }
 },
 "nbformat": 4,
 "nbformat_minor": 5
}
